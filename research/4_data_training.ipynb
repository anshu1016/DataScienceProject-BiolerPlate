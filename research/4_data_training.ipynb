{
 "cells": [
  {
   "cell_type": "code",
   "execution_count": 95,
   "metadata": {},
   "outputs": [],
   "source": [
    "import os "
   ]
  },
  {
   "cell_type": "code",
   "execution_count": 96,
   "metadata": {},
   "outputs": [
    {
     "data": {
      "text/plain": [
       "'C:\\\\ML_OPS\\\\Projects\\\\project1'"
      ]
     },
     "execution_count": 96,
     "metadata": {},
     "output_type": "execute_result"
    }
   ],
   "source": [
    "%pwd"
   ]
  },
  {
   "cell_type": "code",
   "execution_count": 97,
   "metadata": {},
   "outputs": [],
   "source": [
    "#os.chdir('C:\\ML_OPS\\Projects\\project1')"
   ]
  },
  {
   "cell_type": "code",
   "execution_count": 98,
   "metadata": {},
   "outputs": [],
   "source": [
    "from src.DataScienceProject.config import *\n",
    "from src.DataScienceProject import logger\n",
    "from dataclasses import dataclass\n",
    "from pathlib import Path\n",
    "from src.DataScienceProject.constants import *\n"
   ]
  },
  {
   "cell_type": "code",
   "execution_count": 99,
   "metadata": {},
   "outputs": [],
   "source": [
    "from src.DataScienceProject.utils.shared import read_yaml,create_directories"
   ]
  },
  {
   "cell_type": "code",
   "execution_count": 100,
   "metadata": {},
   "outputs": [],
   "source": [
    "@dataclass\n",
    "class ModelTrainingConfig:\n",
    "    root_dir: Path\n",
    "    train_data_path: Path\n",
    "    test_data_path: Path\n",
    "    model_name: str\n",
    "    alpha: str\n",
    "    l1_ratio: str\n",
    "    target_column: str\n",
    "    "
   ]
  },
  {
   "cell_type": "code",
   "execution_count": 101,
   "metadata": {},
   "outputs": [],
   "source": [
    "class ConfigurationManager:\n",
    "    def __init__(self,\n",
    "                 config_filepath = CONFIG_FILE_PATH,\n",
    "                 schema_filepath = SCHEMA_FILE_PATH,\n",
    "                 params_filepath = PARAMS_FILE_PATH\n",
    "                 ):\n",
    "        self.config = read_yaml(config_filepath)\n",
    "        self.params = read_yaml(params_filepath)\n",
    "        self.schema = read_yaml(schema_filepath)\n",
    "\n",
    "\n",
    "        create_directories([self.config.artifacts_root])\n",
    "    def get_model_trainer_config(self) -> ModelTrainingConfig:\n",
    "        config = self.config.model_trainer\n",
    "        params = self.params.ElasticNet\n",
    "        schema = self.schema.TARGET_COLUMN\n",
    "        create_directories([config.root_dir])\n",
    "        model_trainer_config= ModelTrainingConfig(\n",
    "            root_dir= config.root_dir,\n",
    "            train_data_path= config.train_data_path,\n",
    "            test_data_path= config.test_data_path,\n",
    "            model_name = config.model_name,\n",
    "            alpha = float(params.alpha),\n",
    "            l1_ratio= float(params.l1ratio),\n",
    "            target_column = schema.name\n",
    "        )\n",
    "        return model_trainer_config\n",
    "\n",
    "        "
   ]
  },
  {
   "cell_type": "code",
   "execution_count": 102,
   "metadata": {},
   "outputs": [],
   "source": [
    "import pandas as pd \n",
    "from sklearn.linear_model import ElasticNet\n",
    "import joblib # Alternative of pickle\n"
   ]
  },
  {
   "cell_type": "code",
   "execution_count": 103,
   "metadata": {},
   "outputs": [],
   "source": [
    "class ModelTrainer:\n",
    "    def __init__(self,config: ModelTrainingConfig):\n",
    "        self.config = config\n",
    "        # self.model = ElasticNet(alpha=config.alpha, l1_ratio=config.l1_ratio)\n",
    "    def train(self):\n",
    "        train_data = pd.read_csv(self.config.train_data_path)\n",
    "        test_data = pd.read_csv(self.config.test_data_path)\n",
    "\n",
    "        train_x = train_data.drop(columns=[self.config.target_column],axis=1)\n",
    "        test_x = test_data.drop(columns=[self.config.target_column],axis=1)\n",
    "\n",
    "        train_y = train_data[[self.config.target_column]]\n",
    "        test_y = test_data[[self.config.target_column]]\n",
    "\n",
    "        lr = ElasticNet(alpha=self.config.alpha, l1_ratio=self.config.l1_ratio)\n",
    "        lr.fit(train_x, train_y)\n",
    "        print(\"Train Path Exists:\", os.path.exists(self.config.train_data_path))\n",
    "        print(\"Test Path Exists:\", os.path.exists(self.config.test_data_path))\n",
    "\n",
    "        logger.info('Model fit training done.')\n",
    "\n",
    "\n",
    "        joblib.dump(lr,os.path.join(self.config.root_dir,self.config.model_name))"
   ]
  },
  {
   "cell_type": "code",
   "execution_count": 104,
   "metadata": {},
   "outputs": [
    {
     "name": "stdout",
     "output_type": "stream",
     "text": [
      "[2025-06-06 12:33:23,173 : INFO : shared : created directory at : artifacts\\test_folder]\n"
     ]
    }
   ],
   "source": [
    "create_directories([Path(\"artifacts/test_folder\")])"
   ]
  },
  {
   "cell_type": "code",
   "execution_count": 105,
   "metadata": {},
   "outputs": [
    {
     "name": "stdout",
     "output_type": "stream",
     "text": [
      "[2025-06-06 12:33:23,219 : INFO : shared : Yaml File: config\\config.yaml loaded successfully!]\n",
      "[2025-06-06 12:33:23,250 : INFO : shared : Yaml File: params.yaml loaded successfully!]\n",
      "[2025-06-06 12:33:23,258 : INFO : shared : Yaml File: schema.yaml loaded successfully!]\n",
      "[2025-06-06 12:33:23,263 : INFO : shared : created directory at : artifacts]\n",
      "[2025-06-06 12:33:23,265 : INFO : shared : created directory at : artifacts/model_trainer]\n",
      "Train Path Exists: True\n",
      "Test Path Exists: True\n",
      "[2025-06-06 12:33:23,440 : INFO : 3023829112 : Model fit training done.]\n"
     ]
    }
   ],
   "source": [
    "try:\n",
    "    config = ConfigurationManager()\n",
    "    model_config = config.get_model_trainer_config()\n",
    "    trainer = ModelTrainer(config=model_config)\n",
    "    trainer.train()\n",
    "except Exception as e:\n",
    "    print(\"Model Trainer Error:\", e)\n"
   ]
  },
  {
   "cell_type": "code",
   "execution_count": null,
   "metadata": {},
   "outputs": [],
   "source": []
  }
 ],
 "metadata": {
  "kernelspec": {
   "display_name": "myvenv",
   "language": "python",
   "name": "python3"
  },
  "language_info": {
   "codemirror_mode": {
    "name": "ipython",
    "version": 3
   },
   "file_extension": ".py",
   "mimetype": "text/x-python",
   "name": "python",
   "nbconvert_exporter": "python",
   "pygments_lexer": "ipython3",
   "version": "3.10.10"
  }
 },
 "nbformat": 4,
 "nbformat_minor": 2
}
